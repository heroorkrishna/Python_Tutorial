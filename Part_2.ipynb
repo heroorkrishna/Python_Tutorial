{
  "nbformat": 4,
  "nbformat_minor": 0,
  "metadata": {
    "colab": {
      "name": "Part -2.ipynb",
      "provenance": [],
      "collapsed_sections": []
    },
    "kernelspec": {
      "name": "python3",
      "display_name": "Python 3"
    }
  },
  "cells": [
    {
      "cell_type": "code",
      "metadata": {
        "id": "g0SUJzQHhwJe",
        "colab_type": "code",
        "colab": {
          "base_uri": "https://localhost:8080/",
          "height": 34
        },
        "outputId": "7c2014bd-3a24-4ec2-c7b1-f94ca21e881f"
      },
      "source": [
        "list1 = [\"john\", \"cena\", \"pratt\", \"Thanos\"]\n",
        "print(list1)"
      ],
      "execution_count": 1,
      "outputs": [
        {
          "output_type": "stream",
          "text": [
            "['john', 'cena', 'pratt', 'Thanos']\n"
          ],
          "name": "stdout"
        }
      ]
    },
    {
      "cell_type": "code",
      "metadata": {
        "id": "Csn90PsRiKku",
        "colab_type": "code",
        "colab": {
          "base_uri": "https://localhost:8080/",
          "height": 35
        },
        "outputId": "1f8f52fe-6f1a-4bd8-81c0-97c878f84408"
      },
      "source": [
        "list1[1]"
      ],
      "execution_count": 2,
      "outputs": [
        {
          "output_type": "execute_result",
          "data": {
            "application/vnd.google.colaboratory.intrinsic": {
              "type": "string"
            },
            "text/plain": [
              "'cena'"
            ]
          },
          "metadata": {
            "tags": []
          },
          "execution_count": 2
        }
      ]
    },
    {
      "cell_type": "code",
      "metadata": {
        "id": "OHnDj57giStj",
        "colab_type": "code",
        "colab": {
          "base_uri": "https://localhost:8080/",
          "height": 34
        },
        "outputId": "2f183b02-1754-4ad1-890b-27c89a1751aa"
      },
      "source": [
        "list1[1] = \"chris\"\n",
        "print(list1)"
      ],
      "execution_count": 4,
      "outputs": [
        {
          "output_type": "stream",
          "text": [
            "['john', 'chris', 'pratt', 'Thanos']\n"
          ],
          "name": "stdout"
        }
      ]
    },
    {
      "cell_type": "code",
      "metadata": {
        "id": "x1Ukc0XWiW6W",
        "colab_type": "code",
        "colab": {}
      },
      "source": [
        "list2 = [[\"john\",45],\n",
        "        [\"chris\",21],\n",
        "        [\"pratt\", 35],\n",
        "        [\"Thanos\", 55]]"
      ],
      "execution_count": 5,
      "outputs": []
    },
    {
      "cell_type": "code",
      "metadata": {
        "id": "kTPCJqwdiljA",
        "colab_type": "code",
        "colab": {}
      },
      "source": [
        "list3 = [10,20,[300,400,[5000,6000],500],30,40]"
      ],
      "execution_count": 8,
      "outputs": []
    },
    {
      "cell_type": "code",
      "metadata": {
        "id": "WHf_iqzVirCk",
        "colab_type": "code",
        "colab": {}
      },
      "source": [
        "list4 = [5, 10, 15, 20, 25, 50, 20]"
      ],
      "execution_count": 10,
      "outputs": []
    },
    {
      "cell_type": "code",
      "metadata": {
        "id": "xly7KyW-i3E7",
        "colab_type": "code",
        "colab": {
          "base_uri": "https://localhost:8080/",
          "height": 34
        },
        "outputId": "a10a9d1e-2efe-4880-9b5f-1d3eee13d1a6"
      },
      "source": [
        "i=list4.index(20)\n",
        "list4[i] = 200\n",
        "print(list4)"
      ],
      "execution_count": 11,
      "outputs": [
        {
          "output_type": "stream",
          "text": [
            "[5, 10, 15, 200, 25, 50, 20]\n"
          ],
          "name": "stdout"
        }
      ]
    },
    {
      "cell_type": "code",
      "metadata": {
        "id": "_KTjD3Ihi6Hi",
        "colab_type": "code",
        "colab": {}
      },
      "source": [
        "tuple1 = (10, 20, 30, 40, 50)"
      ],
      "execution_count": 12,
      "outputs": []
    },
    {
      "cell_type": "code",
      "metadata": {
        "id": "fgEL_O-Ci8WT",
        "colab_type": "code",
        "colab": {
          "base_uri": "https://localhost:8080/",
          "height": 34
        },
        "outputId": "18114b52-1af1-4039-899c-71b29b0c5c6d"
      },
      "source": [
        "print(tuple1)"
      ],
      "execution_count": 13,
      "outputs": [
        {
          "output_type": "stream",
          "text": [
            "(10, 20, 30, 40, 50)\n"
          ],
          "name": "stdout"
        }
      ]
    }
  ]
}