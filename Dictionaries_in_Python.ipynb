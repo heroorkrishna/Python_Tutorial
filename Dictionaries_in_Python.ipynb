{
  "nbformat": 4,
  "nbformat_minor": 0,
  "metadata": {
    "colab": {
      "name": "Dictionaries in Python.ipynb",
      "provenance": []
    },
    "kernelspec": {
      "name": "python3",
      "display_name": "Python 3"
    }
  },
  "cells": [
    {
      "cell_type": "markdown",
      "metadata": {
        "id": "ogRnITeOjuND",
        "colab_type": "text"
      },
      "source": [
        "Dictionaries in Python\n",
        "\n",
        "Dictionary in Python follows key value pair. \n",
        "\n",
        "Properties of Dictionary are UNORDERED, CHANGEABLE and INDEXED.\n",
        "\n",
        "Syntax for Dictionary:\n",
        "\n",
        "d = { \"key1\" = \"value1\", \"key2\" = \"value2\" }"
      ]
    },
    {
      "cell_type": "code",
      "metadata": {
        "id": "R42Yy8McjO4A",
        "colab_type": "code",
        "colab": {}
      },
      "source": [
        "#Creating a dictionary with variable as dict\n",
        "dict = {\n",
        "    \"Name\" : \"John\",\n",
        "    \"Age\" : 25,\n",
        "    \"Sex\" : \"male\"\n",
        "}"
      ],
      "execution_count": 2,
      "outputs": []
    },
    {
      "cell_type": "code",
      "metadata": {
        "id": "Y6GM8pQOkHf1",
        "colab_type": "code",
        "colab": {
          "base_uri": "https://localhost:8080/",
          "height": 34
        },
        "outputId": "15ab70c9-9de4-49ed-a347-48bdf21c719b"
      },
      "source": [
        "#printing this dictionary\n",
        "print(dict)"
      ],
      "execution_count": 3,
      "outputs": [
        {
          "output_type": "stream",
          "text": [
            "{'Name': 'John', 'Age': 25, 'Sex': 'male'}\n"
          ],
          "name": "stdout"
        }
      ]
    },
    {
      "cell_type": "code",
      "metadata": {
        "id": "c9g5Dg7RkUxN",
        "colab_type": "code",
        "colab": {
          "base_uri": "https://localhost:8080/",
          "height": 68
        },
        "outputId": "5a62b3c4-0d1f-44cd-bbce-fcfec07db435"
      },
      "source": [
        "#print the keys from the dictionary\n",
        "for i in dict:\n",
        " print(i)"
      ],
      "execution_count": 4,
      "outputs": [
        {
          "output_type": "stream",
          "text": [
            "Name\n",
            "Age\n",
            "Sex\n"
          ],
          "name": "stdout"
        }
      ]
    },
    {
      "cell_type": "code",
      "metadata": {
        "id": "Q2x4sxXFkXEU",
        "colab_type": "code",
        "colab": {
          "base_uri": "https://localhost:8080/",
          "height": 68
        },
        "outputId": "c64ff2c9-ee6e-434e-e69a-6d54f93a6d8e"
      },
      "source": [
        "#print the values from the dictionary\n",
        "for j in dict:\n",
        " print(dict[j])"
      ],
      "execution_count": 5,
      "outputs": [
        {
          "output_type": "stream",
          "text": [
            "John\n",
            "25\n",
            "male\n"
          ],
          "name": "stdout"
        }
      ]
    },
    {
      "cell_type": "code",
      "metadata": {
        "id": "7-Yx5OEVkant",
        "colab_type": "code",
        "colab": {
          "base_uri": "https://localhost:8080/",
          "height": 34
        },
        "outputId": "526c7ba6-2d64-40a7-d953-82c85cdfcc15"
      },
      "source": [
        "#print the value of a particular key from the dictionary\n",
        "x = dict[\"Name\"]\n",
        "print(x)"
      ],
      "execution_count": 6,
      "outputs": [
        {
          "output_type": "stream",
          "text": [
            "John\n"
          ],
          "name": "stdout"
        }
      ]
    },
    {
      "cell_type": "code",
      "metadata": {
        "id": "v-YHbPSnkfoz",
        "colab_type": "code",
        "colab": {}
      },
      "source": [
        "#print the value of a particular key from the dictionary using get method\n",
        "y = dict.get(\"Age\")"
      ],
      "execution_count": 7,
      "outputs": []
    },
    {
      "cell_type": "code",
      "metadata": {
        "id": "cTtnUZ7DklaX",
        "colab_type": "code",
        "colab": {
          "base_uri": "https://localhost:8080/",
          "height": 34
        },
        "outputId": "860a3cb6-653d-4454-edf1-9a35281bd2c7"
      },
      "source": [
        "#Updating the value of a key from the key.\n",
        "dict = {\n",
        "    \"Name\" : \"John\",\n",
        "    \"Age\" : 25,\n",
        "    \"Sex\" : \"male\"\n",
        "}\n",
        "dict[\"Age\"] = 24\n",
        "print(dict)"
      ],
      "execution_count": 8,
      "outputs": [
        {
          "output_type": "stream",
          "text": [
            "{'Name': 'John', 'Age': 24, 'Sex': 'male'}\n"
          ],
          "name": "stdout"
        }
      ]
    },
    {
      "cell_type": "code",
      "metadata": {
        "id": "PLYv943Uksss",
        "colab_type": "code",
        "colab": {
          "base_uri": "https://localhost:8080/",
          "height": 68
        },
        "outputId": "9fe66bb6-04fd-4f56-adab-aae696a19cef"
      },
      "source": [
        "#print the value of dictionary using value()\n",
        "for a in dict.values():\n",
        "    print(a)"
      ],
      "execution_count": 9,
      "outputs": [
        {
          "output_type": "stream",
          "text": [
            "John\n",
            "24\n",
            "male\n"
          ],
          "name": "stdout"
        }
      ]
    },
    {
      "cell_type": "code",
      "metadata": {
        "id": "P2X8QCh-kv-f",
        "colab_type": "code",
        "colab": {
          "base_uri": "https://localhost:8080/",
          "height": 68
        },
        "outputId": "ac581518-de84-4caf-f0f6-dfef6d29a70e"
      },
      "source": [
        "#print all the keys with values from the dictionary using items()\n",
        "for b,c in dict.items():\n",
        "    print(b,c)"
      ],
      "execution_count": 10,
      "outputs": [
        {
          "output_type": "stream",
          "text": [
            "Name John\n",
            "Age 24\n",
            "Sex male\n"
          ],
          "name": "stdout"
        }
      ]
    },
    {
      "cell_type": "code",
      "metadata": {
        "id": "9ch30FMlkzPR",
        "colab_type": "code",
        "colab": {
          "base_uri": "https://localhost:8080/",
          "height": 34
        },
        "outputId": "58d5211f-fc43-42b0-cc60-e6fa095476d2"
      },
      "source": [
        "#Verify if \"Name\" key is present in the dictionary\n",
        "if \"Name\" in dict:\n",
        "    print(\"Yes! exist\")"
      ],
      "execution_count": 11,
      "outputs": [
        {
          "output_type": "stream",
          "text": [
            "Yes! exist\n"
          ],
          "name": "stdout"
        }
      ]
    },
    {
      "cell_type": "code",
      "metadata": {
        "id": "74yQTjslk3cJ",
        "colab_type": "code",
        "colab": {
          "base_uri": "https://localhost:8080/",
          "height": 34
        },
        "outputId": "3389e9dc-43dd-4f9e-c8d1-e0506fe71b6d"
      },
      "source": [
        "#print the total number of key value pairs are in dictionary\n",
        "print(len(dict))"
      ],
      "execution_count": 20,
      "outputs": [
        {
          "output_type": "stream",
          "text": [
            "3\n"
          ],
          "name": "stdout"
        }
      ]
    },
    {
      "cell_type": "code",
      "metadata": {
        "id": "Gc7JEzsJk6JP",
        "colab_type": "code",
        "colab": {
          "base_uri": "https://localhost:8080/",
          "height": 34
        },
        "outputId": "ea0a5653-9d9e-41b7-d4ff-fd885d3b95a1"
      },
      "source": [
        "#appending new key value pair to the dictionary\n",
        "dict[\"Qualification\"] = \"Wrestler\"\n",
        "print(dict)"
      ],
      "execution_count": 21,
      "outputs": [
        {
          "output_type": "stream",
          "text": [
            "{'Name': 'John', 'Sex': 'male', 'Qualification': 'Wrestler'}\n"
          ],
          "name": "stdout"
        }
      ]
    },
    {
      "cell_type": "code",
      "metadata": {
        "id": "R5PjXahWk9KY",
        "colab_type": "code",
        "colab": {
          "base_uri": "https://localhost:8080/",
          "height": 34
        },
        "outputId": "04bb08db-4356-46d3-88be-b0d893e11f32"
      },
      "source": [
        "#removing a key value pair from dictionary using pop()\n",
        "#pop() -> we have to provide the key name which we want to remove\n",
        "dict.pop(\"Sex\")\n",
        "print(dict)"
      ],
      "execution_count": 22,
      "outputs": [
        {
          "output_type": "stream",
          "text": [
            "{'Name': 'John', 'Qualification': 'Wrestler'}\n"
          ],
          "name": "stdout"
        }
      ]
    },
    {
      "cell_type": "code",
      "metadata": {
        "id": "nif7M6qRlAKn",
        "colab_type": "code",
        "colab": {
          "base_uri": "https://localhost:8080/",
          "height": 34
        },
        "outputId": "f52a446a-77c2-419b-b285-d4da7b53dce0"
      },
      "source": [
        "#removing a key value pair from dictionary using popitem()\n",
        "#popitem() -> remove latest entry from the dictionary\n",
        "dict.popitem()\n",
        "print(dict)"
      ],
      "execution_count": 23,
      "outputs": [
        {
          "output_type": "stream",
          "text": [
            "{'Name': 'John'}\n"
          ],
          "name": "stdout"
        }
      ]
    },
    {
      "cell_type": "code",
      "metadata": {
        "id": "WCdhp2nnk9GW",
        "colab_type": "code",
        "colab": {}
      },
      "source": [
        "#del function can delete a dictionary completely and we can delete a particular dictionary too\n",
        "del dict[\"Name\"]"
      ],
      "execution_count": 25,
      "outputs": []
    },
    {
      "cell_type": "code",
      "metadata": {
        "id": "vRtkaSC8mZos",
        "colab_type": "code",
        "colab": {
          "base_uri": "https://localhost:8080/",
          "height": 34
        },
        "outputId": "bf726e88-a941-412e-eeee-e191ca9d4a59"
      },
      "source": [
        "#deleting the entire dictionary\n",
        "dict = {\n",
        "    \"Name\" : \"John\",\n",
        "    \"Age\" : 25,\n",
        "    \"Sex\" : \"male\",\n",
        "    \"Qualification\" : \"wreslter\"\n",
        "}\n",
        "del dict\n",
        "print(dict)"
      ],
      "execution_count": 26,
      "outputs": [
        {
          "output_type": "stream",
          "text": [
            "<class 'dict'>\n"
          ],
          "name": "stdout"
        }
      ]
    },
    {
      "cell_type": "code",
      "metadata": {
        "id": "zRpM3Kefmrdk",
        "colab_type": "code",
        "colab": {
          "base_uri": "https://localhost:8080/",
          "height": 34
        },
        "outputId": "79e23889-a44a-4547-f693-e0dfaeb0b20a"
      },
      "source": [
        "#clearing the entire dictionary\n",
        "dict = {\n",
        "    \"Name\" : \"John\",\n",
        "    \"Age\" : 25,\n",
        "    \"Sex\" : \"male\",\n",
        "    \"Qualification\" : \"wreslter\"\n",
        "}\n",
        "dict.clear()\n",
        "print(dict)"
      ],
      "execution_count": 27,
      "outputs": [
        {
          "output_type": "stream",
          "text": [
            "{}\n"
          ],
          "name": "stdout"
        }
      ]
    },
    {
      "cell_type": "code",
      "metadata": {
        "id": "GJgVt-kwnLqX",
        "colab_type": "code",
        "colab": {
          "base_uri": "https://localhost:8080/",
          "height": 34
        },
        "outputId": "f58fff8b-5300-4069-d442-08c856488672"
      },
      "source": [
        "#Copying the value of one dictionary to another by 2 ways: 1) Using dict() 2) Using copy()\n",
        "\n",
        "dict = {\n",
        "    \"Name\" : \"John\",\n",
        "    \"Age\" : 25,\n",
        "    \"Sex\" : \"male\",\n",
        "    \"Qualification\" : \"wreslter\"\n",
        "}\n",
        "\n",
        "#copied_dict = dict(dict)\n",
        "#print(copied_dict)\n",
        "\n",
        "copy_dict = dict.copy()\n",
        "print(copy_dict)"
      ],
      "execution_count": 28,
      "outputs": [
        {
          "output_type": "stream",
          "text": [
            "{'Name': 'John', 'Age': 25, 'Sex': 'male', 'Qualification': 'wreslter'}\n"
          ],
          "name": "stdout"
        }
      ]
    }
  ]
}