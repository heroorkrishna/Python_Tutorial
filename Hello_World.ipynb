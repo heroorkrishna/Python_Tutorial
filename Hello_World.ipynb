{
  "nbformat": 4,
  "nbformat_minor": 0,
  "metadata": {
    "colab": {
      "name": "Hello World.ipynb",
      "provenance": [],
      "collapsed_sections": []
    },
    "kernelspec": {
      "name": "python3",
      "display_name": "Python 3"
    }
  },
  "cells": [
    {
      "cell_type": "markdown",
      "metadata": {
        "id": "QhE9dQcnaQOx",
        "colab_type": "text"
      },
      "source": [
        "What is Python?\n",
        "\n",
        "Python is  High level object oriented Interpreted programming language.\n",
        "\n",
        "It has 7 data types \n",
        "\n",
        "* Integer\n",
        "* List\n",
        "* Tuple\n",
        "* Dictionary\n",
        "* set\n",
        "* Bool\n"
      ]
    },
    {
      "cell_type": "markdown",
      "metadata": {
        "id": "eB9b66j_baUL",
        "colab_type": "text"
      },
      "source": [
        "Getting started with first step i,e printing Hello World"
      ]
    },
    {
      "cell_type": "code",
      "metadata": {
        "id": "hCSkXdguY8gf",
        "colab_type": "code",
        "colab": {
          "base_uri": "https://localhost:8080/",
          "height": 34
        },
        "outputId": "295b5f32-a0c6-4d57-9953-11442652c10a"
      },
      "source": [
        "print(\"Hello World\")"
      ],
      "execution_count": 2,
      "outputs": [
        {
          "output_type": "stream",
          "text": [
            "Hello World\n"
          ],
          "name": "stdout"
        }
      ]
    },
    {
      "cell_type": "code",
      "metadata": {
        "id": "Fqzr2Gz8cHGk",
        "colab_type": "code",
        "colab": {
          "base_uri": "https://localhost:8080/",
          "height": 34
        },
        "outputId": "1060f0d0-eade-4ab9-9f17-abd96863e444"
      },
      "source": [
        "x = int(input(\"Enter a number:\"))"
      ],
      "execution_count": 3,
      "outputs": [
        {
          "output_type": "stream",
          "text": [
            "Enter a number:8\n"
          ],
          "name": "stdout"
        }
      ]
    },
    {
      "cell_type": "code",
      "metadata": {
        "id": "LMvlhvXkcLC8",
        "colab_type": "code",
        "colab": {
          "base_uri": "https://localhost:8080/",
          "height": 34
        },
        "outputId": "619d75e7-c945-479a-aff6-5e0f6c184ad0"
      },
      "source": [
        "print(x)"
      ],
      "execution_count": 4,
      "outputs": [
        {
          "output_type": "stream",
          "text": [
            "8\n"
          ],
          "name": "stdout"
        }
      ]
    },
    {
      "cell_type": "code",
      "metadata": {
        "id": "ZzppLvqMcP6M",
        "colab_type": "code",
        "colab": {
          "base_uri": "https://localhost:8080/",
          "height": 34
        },
        "outputId": "81411f70-663e-467a-f28a-28865fbb1172"
      },
      "source": [
        "square = (x**2)\n",
        "print(square)"
      ],
      "execution_count": 5,
      "outputs": [
        {
          "output_type": "stream",
          "text": [
            "64\n"
          ],
          "name": "stdout"
        }
      ]
    },
    {
      "cell_type": "code",
      "metadata": {
        "id": "M0rsPREtcS3F",
        "colab_type": "code",
        "colab": {
          "base_uri": "https://localhost:8080/",
          "height": 34
        },
        "outputId": "c552f00f-6db9-471b-b1f2-a3d1c15e383d"
      },
      "source": [
        "str = \"python\"\n",
        "print(str[2])"
      ],
      "execution_count": 9,
      "outputs": [
        {
          "output_type": "stream",
          "text": [
            "t\n"
          ],
          "name": "stdout"
        }
      ]
    },
    {
      "cell_type": "code",
      "metadata": {
        "id": "Mo1E5k6fcWfT",
        "colab_type": "code",
        "colab": {
          "base_uri": "https://localhost:8080/",
          "height": 34
        },
        "outputId": "9a157e83-44da-42a1-b1c9-62152913831c"
      },
      "source": [
        "print(str[3:7])"
      ],
      "execution_count": 10,
      "outputs": [
        {
          "output_type": "stream",
          "text": [
            "hon\n"
          ],
          "name": "stdout"
        }
      ]
    },
    {
      "cell_type": "code",
      "metadata": {
        "id": "6YFKUQX_cZEy",
        "colab_type": "code",
        "colab": {
          "base_uri": "https://localhost:8080/",
          "height": 34
        },
        "outputId": "e2f110c5-42d3-4e89-a06f-9c2f95d5d9d5"
      },
      "source": [
        "type(str)"
      ],
      "execution_count": 11,
      "outputs": [
        {
          "output_type": "execute_result",
          "data": {
            "text/plain": [
              "str"
            ]
          },
          "metadata": {
            "tags": []
          },
          "execution_count": 11
        }
      ]
    },
    {
      "cell_type": "code",
      "metadata": {
        "id": "2fiCnQNucb_y",
        "colab_type": "code",
        "colab": {
          "base_uri": "https://localhost:8080/",
          "height": 51
        },
        "outputId": "9af37399-2064-4217-e885-9181993bdc76"
      },
      "source": [
        "firstname = input(\"Enter the firstname\")\n",
        "print(firstname)"
      ],
      "execution_count": 12,
      "outputs": [
        {
          "output_type": "stream",
          "text": [
            "Enter the firstnamekris\n",
            "kris\n"
          ],
          "name": "stdout"
        }
      ]
    },
    {
      "cell_type": "code",
      "metadata": {
        "id": "2qRzofi3cvxg",
        "colab_type": "code",
        "colab": {
          "base_uri": "https://localhost:8080/",
          "height": 51
        },
        "outputId": "401b6709-b107-4755-fd3f-51bbd76c7dab"
      },
      "source": [
        "lastname = input(\"Enter the lastname\")\n",
        "print(lastname)"
      ],
      "execution_count": 13,
      "outputs": [
        {
          "output_type": "stream",
          "text": [
            "Enter the lastnameH\n",
            "H\n"
          ],
          "name": "stdout"
        }
      ]
    },
    {
      "cell_type": "code",
      "metadata": {
        "id": "_iYcKiAEc1E3",
        "colab_type": "code",
        "colab": {
          "base_uri": "https://localhost:8080/",
          "height": 34
        },
        "outputId": "34b411c4-dc48-4bca-8c10-b544a207b384"
      },
      "source": [
        "print(\"Hello \"+ firstname + lastname ,\"You just delved into Python\")"
      ],
      "execution_count": 14,
      "outputs": [
        {
          "output_type": "stream",
          "text": [
            "Hello krisH You just delved into Python\n"
          ],
          "name": "stdout"
        }
      ]
    },
    {
      "cell_type": "code",
      "metadata": {
        "id": "jb0rASeDc35u",
        "colab_type": "code",
        "colab": {
          "base_uri": "https://localhost:8080/",
          "height": 34
        },
        "outputId": "07d52fea-b2cc-4568-b7e2-25532b6ea23b"
      },
      "source": [
        "x = 36 / 4 * (3 + 2) * 4 + 2     \n",
        "print(x)"
      ],
      "execution_count": 15,
      "outputs": [
        {
          "output_type": "stream",
          "text": [
            "182.0\n"
          ],
          "name": "stdout"
        }
      ]
    },
    {
      "cell_type": "code",
      "metadata": {
        "id": "l-MnOtoGc7xa",
        "colab_type": "code",
        "colab": {
          "base_uri": "https://localhost:8080/",
          "height": 34
        },
        "outputId": "00ae667a-926b-4596-e0fd-943091ef980a"
      },
      "source": [
        "'Hello' == \"Hello\""
      ],
      "execution_count": 16,
      "outputs": [
        {
          "output_type": "execute_result",
          "data": {
            "text/plain": [
              "True"
            ]
          },
          "metadata": {
            "tags": []
          },
          "execution_count": 16
        }
      ]
    }
  ]
}