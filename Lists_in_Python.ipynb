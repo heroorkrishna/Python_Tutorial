{
  "nbformat": 4,
  "nbformat_minor": 0,
  "metadata": {
    "colab": {
      "name": "Lists in Python.ipynb",
      "provenance": []
    },
    "kernelspec": {
      "name": "python3",
      "display_name": "Python 3"
    }
  },
  "cells": [
    {
      "cell_type": "markdown",
      "metadata": {
        "id": "K2u2EMfeoIsQ",
        "colab_type": "text"
      },
      "source": [
        "Python also provides inbuilt data types.\n",
        "They are as shown below:\n",
        "\n",
        "1) Lists\n",
        "2) Sets\n",
        "3) Tuple\n",
        "4) Dictionaries"
      ]
    },
    {
      "cell_type": "code",
      "metadata": {
        "id": "Ccg2Q0AXn_jM",
        "colab_type": "code",
        "colab": {}
      },
      "source": [
        "#Creation of Lists\n",
        "#syntax:\n",
        "# variable_name = [val1, val2, val3, val4,.....]\n",
        "\n",
        "List = [\"Akshay\",\"1 year\",\"Male\",\"25\"]"
      ],
      "execution_count": 3,
      "outputs": []
    },
    {
      "cell_type": "code",
      "metadata": {
        "id": "SE9EQQ-LoT0M",
        "colab_type": "code",
        "colab": {
          "base_uri": "https://localhost:8080/",
          "height": 34
        },
        "outputId": "6ed38325-5c0c-4fc3-dcad-d03c2a86b542"
      },
      "source": [
        "List"
      ],
      "execution_count": 4,
      "outputs": [
        {
          "output_type": "execute_result",
          "data": {
            "text/plain": [
              "['Akshay', '1 year', 'Male', '25']"
            ]
          },
          "metadata": {
            "tags": []
          },
          "execution_count": 4
        }
      ]
    },
    {
      "cell_type": "code",
      "metadata": {
        "id": "bKrQBr0coWaM",
        "colab_type": "code",
        "colab": {
          "base_uri": "https://localhost:8080/",
          "height": 34
        },
        "outputId": "968b8694-2435-4dbd-e3f2-fc475a8233dd"
      },
      "source": [
        "#Updating the already existing lists\n",
        "\n",
        "List = [\"Akshay\",\"1 year\",\"Male\",\"25\",\"Gamer\"]\n",
        "List"
      ],
      "execution_count": 5,
      "outputs": [
        {
          "output_type": "execute_result",
          "data": {
            "text/plain": [
              "['Akshay', '1 year', 'Male', '25', 'Gamer']"
            ]
          },
          "metadata": {
            "tags": []
          },
          "execution_count": 5
        }
      ]
    },
    {
      "cell_type": "markdown",
      "metadata": {
        "id": "SEdZ7T7vovWp",
        "colab_type": "text"
      },
      "source": [
        "**Accessing the List**"
      ]
    },
    {
      "cell_type": "code",
      "metadata": {
        "id": "1vznKwhSozI4",
        "colab_type": "code",
        "colab": {
          "base_uri": "https://localhost:8080/",
          "height": 35
        },
        "outputId": "c453cb28-584c-4055-e6a0-ab97312eab28"
      },
      "source": [
        "#Printing the very first element in the list which is the Name\n",
        "\n",
        "List[0]"
      ],
      "execution_count": 6,
      "outputs": [
        {
          "output_type": "execute_result",
          "data": {
            "application/vnd.google.colaboratory.intrinsic": {
              "type": "string"
            },
            "text/plain": [
              "'Akshay'"
            ]
          },
          "metadata": {
            "tags": []
          },
          "execution_count": 6
        }
      ]
    },
    {
      "cell_type": "code",
      "metadata": {
        "id": "j6JniA1Ao4RM",
        "colab_type": "code",
        "colab": {
          "base_uri": "https://localhost:8080/",
          "height": 35
        },
        "outputId": "a9dd811f-e8bb-4b9b-91d2-0ba8aacfb685"
      },
      "source": [
        "#Printing the very last element in the list which is the DOB\n",
        "\n",
        "List[-1]"
      ],
      "execution_count": 7,
      "outputs": [
        {
          "output_type": "execute_result",
          "data": {
            "application/vnd.google.colaboratory.intrinsic": {
              "type": "string"
            },
            "text/plain": [
              "'Gamer'"
            ]
          },
          "metadata": {
            "tags": []
          },
          "execution_count": 7
        }
      ]
    },
    {
      "cell_type": "code",
      "metadata": {
        "id": "lM16ZGiZo66v",
        "colab_type": "code",
        "colab": {
          "base_uri": "https://localhost:8080/",
          "height": 34
        },
        "outputId": "b9be4088-a1c0-4a95-d6d8-e134c9329cbe"
      },
      "source": [
        "#Printing the range of values from the lists\n",
        "#syntax: list[inclusive: exclusive]\n",
        "\n",
        "List[0:2]"
      ],
      "execution_count": 8,
      "outputs": [
        {
          "output_type": "execute_result",
          "data": {
            "text/plain": [
              "['Akshay', '1 year']"
            ]
          },
          "metadata": {
            "tags": []
          },
          "execution_count": 8
        }
      ]
    },
    {
      "cell_type": "code",
      "metadata": {
        "id": "0egu2yiOo-au",
        "colab_type": "code",
        "colab": {
          "base_uri": "https://localhost:8080/",
          "height": 34
        },
        "outputId": "b448799b-1ae2-4594-c3cc-3bdf39d9ca51"
      },
      "source": [
        "#Printing the range of values from the lists by only mentioning the starting or ending points\n",
        "\n",
        "List[:2]"
      ],
      "execution_count": 9,
      "outputs": [
        {
          "output_type": "execute_result",
          "data": {
            "text/plain": [
              "['Akshay', '1 year']"
            ]
          },
          "metadata": {
            "tags": []
          },
          "execution_count": 9
        }
      ]
    },
    {
      "cell_type": "code",
      "metadata": {
        "id": "wEzYff70pBvW",
        "colab_type": "code",
        "colab": {
          "base_uri": "https://localhost:8080/",
          "height": 34
        },
        "outputId": "c8658387-ae78-4c6b-8f68-10f20065d446"
      },
      "source": [
        "#Printing the range of values from the lists by only mentioning the starting or ending points\n",
        "\n",
        "List[2:]"
      ],
      "execution_count": 10,
      "outputs": [
        {
          "output_type": "execute_result",
          "data": {
            "text/plain": [
              "['Male', '25', 'Gamer']"
            ]
          },
          "metadata": {
            "tags": []
          },
          "execution_count": 10
        }
      ]
    },
    {
      "cell_type": "code",
      "metadata": {
        "id": "CImGsqZNoulH",
        "colab_type": "code",
        "colab": {}
      },
      "source": [
        "#Creating a lists of list\n",
        "#Info list contains 6 lists inside\n",
        "\n",
        "Info = [[\"Name\", \"Akshay\"],\n",
        "       [\"exp\", \"1 year\"],\n",
        "       [\"Sex\", \"Male\"],\n",
        "       [\"Age\", \"25\"],\n",
        "       [\"extra-curricular\", \"Gamer\"]]"
      ],
      "execution_count": 13,
      "outputs": []
    },
    {
      "cell_type": "code",
      "metadata": {
        "id": "EMym7-v3qMq6",
        "colab_type": "code",
        "colab": {
          "base_uri": "https://localhost:8080/",
          "height": 34
        },
        "outputId": "728fe4f6-dff4-4e05-e7e5-2a4a5b275353"
      },
      "source": [
        "Info[1]"
      ],
      "execution_count": 14,
      "outputs": [
        {
          "output_type": "execute_result",
          "data": {
            "text/plain": [
              "['exp', '1 year']"
            ]
          },
          "metadata": {
            "tags": []
          },
          "execution_count": 14
        }
      ]
    },
    {
      "cell_type": "code",
      "metadata": {
        "id": "fsQrlv-8qQOh",
        "colab_type": "code",
        "colab": {
          "base_uri": "https://localhost:8080/",
          "height": 34
        },
        "outputId": "a57f50e4-196a-40b8-ede9-7c129a84fb86"
      },
      "source": [
        "Info[0]"
      ],
      "execution_count": 15,
      "outputs": [
        {
          "output_type": "execute_result",
          "data": {
            "text/plain": [
              "['Name', 'Akshay']"
            ]
          },
          "metadata": {
            "tags": []
          },
          "execution_count": 15
        }
      ]
    },
    {
      "cell_type": "code",
      "metadata": {
        "id": "27YRzDItqSa2",
        "colab_type": "code",
        "colab": {
          "base_uri": "https://localhost:8080/",
          "height": 102
        },
        "outputId": "554ab5a8-40a4-4fc2-c907-b8a2fb4ed574"
      },
      "source": [
        "#Updating the value from Akshay to Akshay Kumar\n",
        "\n",
        "Info[0] = [\"Name\",\"Akshay Kumar\"]\n",
        "Info"
      ],
      "execution_count": 17,
      "outputs": [
        {
          "output_type": "execute_result",
          "data": {
            "text/plain": [
              "[['Name', 'Akshay Kumar'],\n",
              " ['exp', '1 year'],\n",
              " ['Sex', 'Male'],\n",
              " ['Age', '25'],\n",
              " ['extra-curricular', 'Gamer']]"
            ]
          },
          "metadata": {
            "tags": []
          },
          "execution_count": 17
        }
      ]
    },
    {
      "cell_type": "code",
      "metadata": {
        "id": "WRBeTRToqdgW",
        "colab_type": "code",
        "colab": {
          "base_uri": "https://localhost:8080/",
          "height": 35
        },
        "outputId": "f9af5e28-8168-441d-e64d-dd775ad0089c"
      },
      "source": [
        "#accessing list of lists\n",
        "#To print \"Akshay Kumar\"\n",
        "\n",
        "Info[0][1]"
      ],
      "execution_count": 18,
      "outputs": [
        {
          "output_type": "execute_result",
          "data": {
            "application/vnd.google.colaboratory.intrinsic": {
              "type": "string"
            },
            "text/plain": [
              "'Akshay Kumar'"
            ]
          },
          "metadata": {
            "tags": []
          },
          "execution_count": 18
        }
      ]
    },
    {
      "cell_type": "code",
      "metadata": {
        "id": "lkmdRyrPqidS",
        "colab_type": "code",
        "colab": {}
      },
      "source": [
        "#Copying the List\n",
        "\n",
        "Info1 = Info"
      ],
      "execution_count": 19,
      "outputs": []
    },
    {
      "cell_type": "code",
      "metadata": {
        "id": "ZiF_CADPqlUP",
        "colab_type": "code",
        "colab": {
          "base_uri": "https://localhost:8080/",
          "height": 102
        },
        "outputId": "db4fc9c1-2d52-4daa-f93a-2ce57af1237e"
      },
      "source": [
        "#Updating Info1\n",
        "\n",
        "Info1[4] = [\"Character\", \"Good\"]\n",
        "Info1"
      ],
      "execution_count": 21,
      "outputs": [
        {
          "output_type": "execute_result",
          "data": {
            "text/plain": [
              "[['Name', 'Akshay Kumar'],\n",
              " ['exp', '1 year'],\n",
              " ['Sex', 'Male'],\n",
              " ['Age', '25'],\n",
              " ['Character', 'Good']]"
            ]
          },
          "metadata": {
            "tags": []
          },
          "execution_count": 21
        }
      ]
    },
    {
      "cell_type": "code",
      "metadata": {
        "id": "XGNBX439qok5",
        "colab_type": "code",
        "colab": {
          "base_uri": "https://localhost:8080/",
          "height": 102
        },
        "outputId": "ac639052-6f8d-48c3-f4ad-18fb0bf70b9d"
      },
      "source": [
        "Info"
      ],
      "execution_count": 22,
      "outputs": [
        {
          "output_type": "execute_result",
          "data": {
            "text/plain": [
              "[['Name', 'Akshay Kumar'],\n",
              " ['exp', '1 year'],\n",
              " ['Sex', 'Male'],\n",
              " ['Age', '25'],\n",
              " ['Character', 'Good']]"
            ]
          },
          "metadata": {
            "tags": []
          },
          "execution_count": 22
        }
      ]
    },
    {
      "cell_type": "code",
      "metadata": {
        "id": "AMmsx_iWqudY",
        "colab_type": "code",
        "colab": {
          "base_uri": "https://localhost:8080/",
          "height": 51
        },
        "outputId": "26f52c19-0760-4a7f-fbcf-7fa2f5ebc42b"
      },
      "source": [
        "#We change only the Info1 list, but the changes are also affected in Info list. Here, the address got copied from Info to Info1.\n",
        "#The correct way is as follows\n",
        "\n",
        "Info = [['Name', 'Akshay Kumar'],\n",
        " ['exp', '1 year'],\n",
        " ['Sex', 'Male'],\n",
        " ['Age', '25'],\n",
        " ['extra-curricular', 'Gamer']]\n",
        "print(Info)\n",
        "Info1 = list(Info)\n",
        "print(Info1)"
      ],
      "execution_count": 23,
      "outputs": [
        {
          "output_type": "stream",
          "text": [
            "[['Name', 'Akshay Kumar'], ['exp', '1 year'], ['Sex', 'Male'], ['Age', '25'], ['extra-curricular', 'Gamer']]\n",
            "[['Name', 'Akshay Kumar'], ['exp', '1 year'], ['Sex', 'Male'], ['Age', '25'], ['extra-curricular', 'Gamer']]\n"
          ],
          "name": "stdout"
        }
      ]
    },
    {
      "cell_type": "code",
      "metadata": {
        "id": "vnlGg43Wq6RK",
        "colab_type": "code",
        "colab": {
          "base_uri": "https://localhost:8080/",
          "height": 51
        },
        "outputId": "3f715526-ea40-4be2-9b09-75a5e9e71af3"
      },
      "source": [
        "Info1[4] = [\"Character\", \"Good \"]\n",
        "print(Info)\n",
        "\n",
        "print(Info1)"
      ],
      "execution_count": 24,
      "outputs": [
        {
          "output_type": "stream",
          "text": [
            "[['Name', 'Akshay Kumar'], ['exp', '1 year'], ['Sex', 'Male'], ['Age', '25'], ['extra-curricular', 'Gamer']]\n",
            "[['Name', 'Akshay Kumar'], ['exp', '1 year'], ['Sex', 'Male'], ['Age', '25'], ['Character', 'Good ']]\n"
          ],
          "name": "stdout"
        }
      ]
    },
    {
      "cell_type": "code",
      "metadata": {
        "id": "fz0Mf6nGq_Ro",
        "colab_type": "code",
        "colab": {
          "base_uri": "https://localhost:8080/",
          "height": 136
        },
        "outputId": "0cf52aa7-cdee-4441-d0ef-7789e6f2336b"
      },
      "source": [
        "#adding an element to a lists\n",
        "\n",
        "Info + [\"Mother's Name\",\"Jyoti\"]"
      ],
      "execution_count": 26,
      "outputs": [
        {
          "output_type": "execute_result",
          "data": {
            "text/plain": [
              "[['Name', 'Akshay Kumar'],\n",
              " ['exp', '1 year'],\n",
              " ['Sex', 'Male'],\n",
              " ['Age', '25'],\n",
              " ['extra-curricular', 'Gamer'],\n",
              " \"Mother's Name\",\n",
              " 'Jyoti']"
            ]
          },
          "metadata": {
            "tags": []
          },
          "execution_count": 26
        }
      ]
    },
    {
      "cell_type": "code",
      "metadata": {
        "id": "HXO_jCVvrJtj",
        "colab_type": "code",
        "colab": {
          "base_uri": "https://localhost:8080/",
          "height": 34
        },
        "outputId": "7f2ce2bb-f63a-40c0-e8a3-7a604a103d9c"
      },
      "source": [
        "#deleting an element from the lists\n",
        "\n",
        "del(Info[4])\n",
        "Info"
      ],
      "execution_count": 27,
      "outputs": [
        {
          "output_type": "execute_result",
          "data": {
            "text/plain": [
              "[['Name', 'Akshay Kumar'], ['exp', '1 year'], ['Sex', 'Male'], ['Age', '25']]"
            ]
          },
          "metadata": {
            "tags": []
          },
          "execution_count": 27
        }
      ]
    },
    {
      "cell_type": "code",
      "metadata": {
        "id": "DHGPe0KArSyA",
        "colab_type": "code",
        "colab": {}
      },
      "source": [
        "#join 2 lists\n",
        "\n",
        "a = [\"Aaran\",\"24\",\"male\"]\n",
        "b = [\"Abinay\",\"21\",\"male\"]"
      ],
      "execution_count": 29,
      "outputs": []
    },
    {
      "cell_type": "code",
      "metadata": {
        "id": "-cU9mXturhJC",
        "colab_type": "code",
        "colab": {
          "base_uri": "https://localhost:8080/",
          "height": 34
        },
        "outputId": "4d27f691-923a-49bd-f6f5-11e4650e0040"
      },
      "source": [
        "c = a + b\n",
        "\n",
        "print(c)"
      ],
      "execution_count": 30,
      "outputs": [
        {
          "output_type": "stream",
          "text": [
            "['Aaran', '24', 'male', 'Abinay', '21', 'male']\n"
          ],
          "name": "stdout"
        }
      ]
    },
    {
      "cell_type": "code",
      "metadata": {
        "id": "ZfJBRkK4rnrs",
        "colab_type": "code",
        "colab": {
          "base_uri": "https://localhost:8080/",
          "height": 34
        },
        "outputId": "1f8de149-2d57-4c02-b9fe-0a3980cc4d44"
      },
      "source": [
        "#joining 2 lists using extend method\n",
        "\n",
        "a.extend(b)\n",
        "print(a)"
      ],
      "execution_count": 31,
      "outputs": [
        {
          "output_type": "stream",
          "text": [
            "['Aaran', '24', 'male', 'Abinay', '21', 'male']\n"
          ],
          "name": "stdout"
        }
      ]
    },
    {
      "cell_type": "code",
      "metadata": {
        "id": "yj_xdQygrqLN",
        "colab_type": "code",
        "colab": {
          "base_uri": "https://localhost:8080/",
          "height": 34
        },
        "outputId": "39fd779e-7823-489c-db6d-c2c984b1a4ec"
      },
      "source": [
        "#clearing a list using clear command\n",
        "\n",
        "b.clear()\n",
        "print(b)"
      ],
      "execution_count": 32,
      "outputs": [
        {
          "output_type": "stream",
          "text": [
            "[]\n"
          ],
          "name": "stdout"
        }
      ]
    }
  ]
}