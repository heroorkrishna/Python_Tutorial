{
  "nbformat": 4,
  "nbformat_minor": 0,
  "metadata": {
    "colab": {
      "name": "Loops and Conditional statements in Python.ipynb",
      "provenance": [],
      "collapsed_sections": []
    },
    "kernelspec": {
      "name": "python3",
      "display_name": "Python 3"
    }
  },
  "cells": [
    {
      "cell_type": "markdown",
      "metadata": {
        "id": "fXZJTEcnsLC2",
        "colab_type": "text"
      },
      "source": [
        "Loops and Conditional statements in Python\n",
        "The following are the conditional statements in Python\n",
        "They are as follows\n",
        "\n",
        "1. IF\n",
        "2. IF ELSE\n",
        "3. ELIF\n",
        "4. NESTED IF\n",
        "5. SWTICH CASE STATEMENT"
      ]
    },
    {
      "cell_type": "code",
      "metadata": {
        "id": "lTfLQkQssG5-",
        "colab_type": "code",
        "colab": {
          "base_uri": "https://localhost:8080/",
          "height": 1000
        },
        "outputId": "b41628da-de4f-4fd6-e695-bac5b7555aa9"
      },
      "source": [
        "#Computing all the multiples of 3 and 5 that are less than 100\n",
        "\n",
        "#using range function, able to generate a series of consecutive numbers\n",
        "\n",
        "#range(first number inclusive, last number exclusive)\n",
        "\n",
        "list1 = list(range(1, 100))\n",
        "list1"
      ],
      "execution_count": 1,
      "outputs": [
        {
          "output_type": "execute_result",
          "data": {
            "text/plain": [
              "[1,\n",
              " 2,\n",
              " 3,\n",
              " 4,\n",
              " 5,\n",
              " 6,\n",
              " 7,\n",
              " 8,\n",
              " 9,\n",
              " 10,\n",
              " 11,\n",
              " 12,\n",
              " 13,\n",
              " 14,\n",
              " 15,\n",
              " 16,\n",
              " 17,\n",
              " 18,\n",
              " 19,\n",
              " 20,\n",
              " 21,\n",
              " 22,\n",
              " 23,\n",
              " 24,\n",
              " 25,\n",
              " 26,\n",
              " 27,\n",
              " 28,\n",
              " 29,\n",
              " 30,\n",
              " 31,\n",
              " 32,\n",
              " 33,\n",
              " 34,\n",
              " 35,\n",
              " 36,\n",
              " 37,\n",
              " 38,\n",
              " 39,\n",
              " 40,\n",
              " 41,\n",
              " 42,\n",
              " 43,\n",
              " 44,\n",
              " 45,\n",
              " 46,\n",
              " 47,\n",
              " 48,\n",
              " 49,\n",
              " 50,\n",
              " 51,\n",
              " 52,\n",
              " 53,\n",
              " 54,\n",
              " 55,\n",
              " 56,\n",
              " 57,\n",
              " 58,\n",
              " 59,\n",
              " 60,\n",
              " 61,\n",
              " 62,\n",
              " 63,\n",
              " 64,\n",
              " 65,\n",
              " 66,\n",
              " 67,\n",
              " 68,\n",
              " 69,\n",
              " 70,\n",
              " 71,\n",
              " 72,\n",
              " 73,\n",
              " 74,\n",
              " 75,\n",
              " 76,\n",
              " 77,\n",
              " 78,\n",
              " 79,\n",
              " 80,\n",
              " 81,\n",
              " 82,\n",
              " 83,\n",
              " 84,\n",
              " 85,\n",
              " 86,\n",
              " 87,\n",
              " 88,\n",
              " 89,\n",
              " 90,\n",
              " 91,\n",
              " 92,\n",
              " 93,\n",
              " 94,\n",
              " 95,\n",
              " 96,\n",
              " 97,\n",
              " 98,\n",
              " 99]"
            ]
          },
          "metadata": {
            "tags": []
          },
          "execution_count": 1
        }
      ]
    },
    {
      "cell_type": "code",
      "metadata": {
        "id": "ea11EwLdsRNW",
        "colab_type": "code",
        "colab": {
          "base_uri": "https://localhost:8080/",
          "height": 34
        },
        "outputId": "f82098de-cf04-44d4-e660-e91d23e608a0"
      },
      "source": [
        "list2 = list(range(1, 8))\n",
        "print(list2)"
      ],
      "execution_count": 2,
      "outputs": [
        {
          "output_type": "stream",
          "text": [
            "[1, 2, 3, 4, 5, 6, 7]\n"
          ],
          "name": "stdout"
        }
      ]
    },
    {
      "cell_type": "code",
      "metadata": {
        "id": "ELnXt1V1sf3M",
        "colab_type": "code",
        "colab": {
          "base_uri": "https://localhost:8080/",
          "height": 34
        },
        "outputId": "6297aee8-04ee-4594-fcd8-b6d0cc5add96"
      },
      "source": [
        "total2 = 0\n",
        "for i in list1:\n",
        "    if i % 3 == 0 and i % 5 == 0:\n",
        "     total2 = total2 + i\n",
        "print(total2)"
      ],
      "execution_count": 3,
      "outputs": [
        {
          "output_type": "stream",
          "text": [
            "315\n"
          ],
          "name": "stdout"
        }
      ]
    },
    {
      "cell_type": "code",
      "metadata": {
        "id": "MgfTkJsBsjAM",
        "colab_type": "code",
        "colab": {
          "base_uri": "https://localhost:8080/",
          "height": 85
        },
        "outputId": "18cf6a59-270a-4cfa-be04-5e6baf1cc5e9"
      },
      "source": [
        "fam_heights = [1.73, 1.68, 1.71, 1.89]\n",
        "\n",
        "for height in fam_heights:\n",
        "    print(height)"
      ],
      "execution_count": 4,
      "outputs": [
        {
          "output_type": "stream",
          "text": [
            "1.73\n",
            "1.68\n",
            "1.71\n",
            "1.89\n"
          ],
          "name": "stdout"
        }
      ]
    },
    {
      "cell_type": "code",
      "metadata": {
        "id": "iUPZzcuMslXJ",
        "colab_type": "code",
        "colab": {
          "base_uri": "https://localhost:8080/",
          "height": 85
        },
        "outputId": "bf937e01-0628-4c6c-8ef1-b35bb07e9b87"
      },
      "source": [
        "for index, height in enumerate(fam_heights):\n",
        "     print(\"index\" + str(index) + \":\" + str(height))"
      ],
      "execution_count": 5,
      "outputs": [
        {
          "output_type": "stream",
          "text": [
            "index0:1.73\n",
            "index1:1.68\n",
            "index2:1.71\n",
            "index3:1.89\n"
          ],
          "name": "stdout"
        }
      ]
    },
    {
      "cell_type": "code",
      "metadata": {
        "id": "x9Swi9FAsrDM",
        "colab_type": "code",
        "colab": {
          "base_uri": "https://localhost:8080/",
          "height": 34
        },
        "outputId": "cb4d3fd8-d556-44b7-8840-09bcf0f015c5"
      },
      "source": [
        "#range function with step function\n",
        "\n",
        "print(list(range(0,100,5)))"
      ],
      "execution_count": 6,
      "outputs": [
        {
          "output_type": "stream",
          "text": [
            "[0, 5, 10, 15, 20, 25, 30, 35, 40, 45, 50, 55, 60, 65, 70, 75, 80, 85, 90, 95]\n"
          ],
          "name": "stdout"
        }
      ]
    },
    {
      "cell_type": "code",
      "metadata": {
        "id": "3nACLojlstyh",
        "colab_type": "code",
        "colab": {
          "base_uri": "https://localhost:8080/",
          "height": 187
        },
        "outputId": "451a97f9-3d26-4c24-8cd1-7d63c02f5e7b"
      },
      "source": [
        "#print the first 10 numbers using while loop\n",
        "\n",
        "i=0\n",
        "while i < 10:\n",
        "   i = i + 1\n",
        "   print(i)"
      ],
      "execution_count": 7,
      "outputs": [
        {
          "output_type": "stream",
          "text": [
            "1\n",
            "2\n",
            "3\n",
            "4\n",
            "5\n",
            "6\n",
            "7\n",
            "8\n",
            "9\n",
            "10\n"
          ],
          "name": "stdout"
        }
      ]
    },
    {
      "cell_type": "code",
      "metadata": {
        "id": "JRKoeg1Vswoj",
        "colab_type": "code",
        "colab": {
          "base_uri": "https://localhost:8080/",
          "height": 204
        },
        "outputId": "d612ee12-da94-4c7c-bd66-c21ad5cc6fd0"
      },
      "source": [
        "List1 = [12, 15, 32, 42, 55, 75, 122, 132, 150, 180, 200]\n",
        "for i in List1:\n",
        "    print(i)"
      ],
      "execution_count": 8,
      "outputs": [
        {
          "output_type": "stream",
          "text": [
            "12\n",
            "15\n",
            "32\n",
            "42\n",
            "55\n",
            "75\n",
            "122\n",
            "132\n",
            "150\n",
            "180\n",
            "200\n"
          ],
          "name": "stdout"
        }
      ]
    },
    {
      "cell_type": "code",
      "metadata": {
        "id": "2Utg-dj5s0QE",
        "colab_type": "code",
        "colab": {
          "base_uri": "https://localhost:8080/",
          "height": 204
        },
        "outputId": "d5807056-7ce3-43ff-a4e2-1f45894ddd20"
      },
      "source": [
        "num = int(input(\"Enter the number\"))\n",
        "list2 = list(range(1, 11))\n",
        "for i in list2:\n",
        "    print(num * i)"
      ],
      "execution_count": 9,
      "outputs": [
        {
          "output_type": "stream",
          "text": [
            "Enter the number6\n",
            "6\n",
            "12\n",
            "18\n",
            "24\n",
            "30\n",
            "36\n",
            "42\n",
            "48\n",
            "54\n",
            "60\n"
          ],
          "name": "stdout"
        }
      ]
    },
    {
      "cell_type": "code",
      "metadata": {
        "id": "sjXtoWr0s3ss",
        "colab_type": "code",
        "colab": {
          "base_uri": "https://localhost:8080/",
          "height": 68
        },
        "outputId": "cfe34c2a-29b5-494b-c537-3a0df90531be"
      },
      "source": [
        "g = [\"book\", \"pen\", \"bag\"]\n",
        "for index, element in enumerate(g):\n",
        "    print(\"index\" + str(index) + \":\" + str(element))"
      ],
      "execution_count": 10,
      "outputs": [
        {
          "output_type": "stream",
          "text": [
            "index0:book\n",
            "index1:pen\n",
            "index2:bag\n"
          ],
          "name": "stdout"
        }
      ]
    },
    {
      "cell_type": "code",
      "metadata": {
        "id": "k9IbVN2NtWqv",
        "colab_type": "code",
        "colab": {
          "base_uri": "https://localhost:8080/",
          "height": 51
        },
        "outputId": "3a7b1d0d-b2f5-43dc-a719-681216306a74"
      },
      "source": [
        "n = int(input(\"Enter the number\"))\n",
        "list3 = list(range(n))\n",
        "total = 0\n",
        "for i in list3:\n",
        "    total = total + i\n",
        "print(total)"
      ],
      "execution_count": 11,
      "outputs": [
        {
          "output_type": "stream",
          "text": [
            "Enter the number 5\n",
            "10\n"
          ],
          "name": "stdout"
        }
      ]
    },
    {
      "cell_type": "code",
      "metadata": {
        "id": "G9EbH498tcGp",
        "colab_type": "code",
        "colab": {
          "base_uri": "https://localhost:8080/",
          "height": 51
        },
        "outputId": "250a659b-4bf3-4716-f12d-52525ac49ec4"
      },
      "source": [
        "list4 = list(range(3, 5))\n",
        "for i in list4:\n",
        "    print(i)"
      ],
      "execution_count": 12,
      "outputs": [
        {
          "output_type": "stream",
          "text": [
            "3\n",
            "4\n"
          ],
          "name": "stdout"
        }
      ]
    },
    {
      "cell_type": "code",
      "metadata": {
        "id": "h_AJB2cXtf3s",
        "colab_type": "code",
        "colab": {
          "base_uri": "https://localhost:8080/",
          "height": 153
        },
        "outputId": "03512a29-af48-43a8-ab7b-f809c2dc4a80"
      },
      "source": [
        "list5 = list(range(3, 19, 2))\n",
        "for j in list5:\n",
        "    print(j)"
      ],
      "execution_count": 13,
      "outputs": [
        {
          "output_type": "stream",
          "text": [
            "3\n",
            "5\n",
            "7\n",
            "9\n",
            "11\n",
            "13\n",
            "15\n",
            "17\n"
          ],
          "name": "stdout"
        }
      ]
    },
    {
      "cell_type": "code",
      "metadata": {
        "id": "gV4F8xentif-",
        "colab_type": "code",
        "colab": {
          "base_uri": "https://localhost:8080/",
          "height": 34
        },
        "outputId": "4d4ecdf4-1e88-4879-d470-e769800bab95"
      },
      "source": [
        "str = \"Python\"\n",
        "for i in str:\n",
        "    print(i, end='')"
      ],
      "execution_count": 14,
      "outputs": [
        {
          "output_type": "stream",
          "text": [
            "Python"
          ],
          "name": "stdout"
        }
      ]
    },
    {
      "cell_type": "code",
      "metadata": {
        "id": "_95pi2lCtlpL",
        "colab_type": "code",
        "colab": {
          "base_uri": "https://localhost:8080/",
          "height": 68
        },
        "outputId": "eec76180-7125-47d8-ef5e-27a599cd5809"
      },
      "source": [
        "a = 0\n",
        "while (a<3):\n",
        "   print(\"hi\")\n",
        "   a = a+1"
      ],
      "execution_count": 15,
      "outputs": [
        {
          "output_type": "stream",
          "text": [
            "hi\n",
            "hi\n",
            "hi\n"
          ],
          "name": "stdout"
        }
      ]
    },
    {
      "cell_type": "code",
      "metadata": {
        "id": "8y0HwqFFtpIc",
        "colab_type": "code",
        "colab": {
          "base_uri": "https://localhost:8080/",
          "height": 85
        },
        "outputId": "5f070680-1e58-410b-dbda-e7cbe36e789d"
      },
      "source": [
        "b = \"abcd\"\n",
        "for i in b:\n",
        "    print(i.upper())"
      ],
      "execution_count": 16,
      "outputs": [
        {
          "output_type": "stream",
          "text": [
            "A\n",
            "B\n",
            "C\n",
            "D\n"
          ],
          "name": "stdout"
        }
      ]
    },
    {
      "cell_type": "code",
      "metadata": {
        "id": "NmQJcQSStrwR",
        "colab_type": "code",
        "colab": {
          "base_uri": "https://localhost:8080/",
          "height": 34
        },
        "outputId": "5e5b2b65-97c7-423a-b2a0-d69fef1e8478"
      },
      "source": [
        "x = 0\n",
        "while(x<100):\n",
        "   x +=2\n",
        "print(x)"
      ],
      "execution_count": 17,
      "outputs": [
        {
          "output_type": "stream",
          "text": [
            "100\n"
          ],
          "name": "stdout"
        }
      ]
    },
    {
      "cell_type": "code",
      "metadata": {
        "id": "7QlTONEetu8E",
        "colab_type": "code",
        "colab": {
          "base_uri": "https://localhost:8080/",
          "height": 85
        },
        "outputId": "a25d4a98-3106-40ba-e40a-3d33e75b8c36"
      },
      "source": [
        "numbers = [10, 20]\n",
        "items = [\"Chair\", \"Table\"]\n",
        "\n",
        "for x in numbers:\n",
        "  for y in items:\n",
        "    print(x, y)"
      ],
      "execution_count": 18,
      "outputs": [
        {
          "output_type": "stream",
          "text": [
            "10 Chair\n",
            "10 Table\n",
            "20 Chair\n",
            "20 Table\n"
          ],
          "name": "stdout"
        }
      ]
    },
    {
      "cell_type": "code",
      "metadata": {
        "id": "FSzFmJbgty0k",
        "colab_type": "code",
        "colab": {
          "base_uri": "https://localhost:8080/",
          "height": 34
        },
        "outputId": "440d9e0b-0aae-4f24-d9ee-40d740ba8a73"
      },
      "source": [
        "z=6\n",
        "if z % 2 ==0:\n",
        "    print(\"Z is divisible by 2\")\n",
        "elif z % 3 ==0:\n",
        "    print(\"z is divisible by 3\")\n",
        "else:\n",
        "    print(\"Divisible by neither\")"
      ],
      "execution_count": 19,
      "outputs": [
        {
          "output_type": "stream",
          "text": [
            "Z is divisible by 2\n"
          ],
          "name": "stdout"
        }
      ]
    },
    {
      "cell_type": "code",
      "metadata": {
        "id": "Ryizx6xOt2NR",
        "colab_type": "code",
        "colab": {
          "base_uri": "https://localhost:8080/",
          "height": 68
        },
        "outputId": "43b15e24-2f8a-4731-87e4-8a733c416fa6"
      },
      "source": [
        "l = int(input(\"Enter the value of length\"))\n",
        "b = int(input(\"Enter the value of breadth\"))\n",
        "if l == b:\n",
        "    print(\"It is a square\")\n",
        "else:\n",
        "    print(\"It is a rectangle\")"
      ],
      "execution_count": 20,
      "outputs": [
        {
          "output_type": "stream",
          "text": [
            "Enter the value of length 5\n",
            "Enter the value of breadth6\n",
            "It is a rectangle\n"
          ],
          "name": "stdout"
        }
      ]
    },
    {
      "cell_type": "code",
      "metadata": {
        "id": "TKabUyAGuIch",
        "colab_type": "code",
        "colab": {
          "base_uri": "https://localhost:8080/",
          "height": 51
        },
        "outputId": "7194fdcb-2ec4-47ba-c53e-cc61ef260c49"
      },
      "source": [
        "age = int(input(\"Enter your age pls\"))\n",
        "if age < 18:\n",
        "    print(\"You are not eligible to vote\")\n",
        "else:\n",
        "    print(\"You are eligible to vote\")"
      ],
      "execution_count": 25,
      "outputs": [
        {
          "output_type": "stream",
          "text": [
            "Enter your age pls 20\n",
            "You are eligible to vote\n"
          ],
          "name": "stdout"
        }
      ]
    },
    {
      "cell_type": "code",
      "metadata": {
        "id": "wyPdojAcuqFJ",
        "colab_type": "code",
        "colab": {}
      },
      "source": [
        "dictionary = {0:10, 1:20}"
      ],
      "execution_count": 26,
      "outputs": []
    },
    {
      "cell_type": "code",
      "metadata": {
        "id": "iS7UVjVgut_q",
        "colab_type": "code",
        "colab": {}
      },
      "source": [
        "dictionary[2]=30"
      ],
      "execution_count": 27,
      "outputs": []
    },
    {
      "cell_type": "code",
      "metadata": {
        "id": "DoEVM_qPuyVL",
        "colab_type": "code",
        "colab": {
          "base_uri": "https://localhost:8080/",
          "height": 34
        },
        "outputId": "530889d2-60b8-4d3f-dc55-fb41c372c761"
      },
      "source": [
        "dictionary"
      ],
      "execution_count": 28,
      "outputs": [
        {
          "output_type": "execute_result",
          "data": {
            "text/plain": [
              "{0: 10, 1: 20, 2: 30}"
            ]
          },
          "metadata": {
            "tags": []
          },
          "execution_count": 28
        }
      ]
    },
    {
      "cell_type": "code",
      "metadata": {
        "id": "dbxdJkP6u1IP",
        "colab_type": "code",
        "colab": {}
      },
      "source": [
        "keys = [\"Ten\", \"Twenty\", \"Thirty\"]\n",
        "values = [10, 20, 30]\n",
        "d = dict(zip(keys,values))"
      ],
      "execution_count": 29,
      "outputs": []
    },
    {
      "cell_type": "code",
      "metadata": {
        "id": "D2O54yd3u3wF",
        "colab_type": "code",
        "colab": {
          "base_uri": "https://localhost:8080/",
          "height": 34
        },
        "outputId": "d69e6037-4f52-4202-f5be-20128b2b0dda"
      },
      "source": [
        "d"
      ],
      "execution_count": 30,
      "outputs": [
        {
          "output_type": "execute_result",
          "data": {
            "text/plain": [
              "{'Ten': 10, 'Thirty': 30, 'Twenty': 20}"
            ]
          },
          "metadata": {
            "tags": []
          },
          "execution_count": 30
        }
      ]
    },
    {
      "cell_type": "code",
      "metadata": {
        "id": "-jE09IuHu6rZ",
        "colab_type": "code",
        "colab": {}
      },
      "source": [
        "sampleDict = {\n",
        "    \"class\":{\n",
        "        \"student\":{\n",
        "            \"name\":\"Mike\",\n",
        "            \"Marks\":{\n",
        "                \"Physics\":70,\n",
        "                \"History\":80\n",
        "            }\n",
        "                \n",
        "            }\n",
        "        }\n",
        "    }"
      ],
      "execution_count": 31,
      "outputs": []
    },
    {
      "cell_type": "code",
      "metadata": {
        "id": "uOlkAOwxvEFG",
        "colab_type": "code",
        "colab": {
          "base_uri": "https://localhost:8080/",
          "height": 34
        },
        "outputId": "f74cbc6a-1f53-4330-f447-5534c291ad35"
      },
      "source": [
        "print(sampleDict[\"class\"][\"student\"][\"Marks\"][\"History\"])"
      ],
      "execution_count": 32,
      "outputs": [
        {
          "output_type": "stream",
          "text": [
            "80\n"
          ],
          "name": "stdout"
        }
      ]
    },
    {
      "cell_type": "code",
      "metadata": {
        "id": "B-uMIDKTvNXY",
        "colab_type": "code",
        "colab": {
          "base_uri": "https://localhost:8080/",
          "height": 34
        },
        "outputId": "b2669154-7060-4579-d7ae-a7b1cd1cc23f"
      },
      "source": [
        "a,b = 12,5\n",
        "if a + b:\n",
        "    print(\"True\")\n",
        "else:\n",
        "    print(\"False\")"
      ],
      "execution_count": 33,
      "outputs": [
        {
          "output_type": "stream",
          "text": [
            "True\n"
          ],
          "name": "stdout"
        }
      ]
    },
    {
      "cell_type": "code",
      "metadata": {
        "id": "PTtgDQxsvRL-",
        "colab_type": "code",
        "colab": {}
      },
      "source": [
        "if(0<0):\n",
        "    x=5\n",
        "    print(x)"
      ],
      "execution_count": 34,
      "outputs": []
    },
    {
      "cell_type": "code",
      "metadata": {
        "id": "nb2clfbMvVHS",
        "colab_type": "code",
        "colab": {
          "base_uri": "https://localhost:8080/",
          "height": 34
        },
        "outputId": "3ebb9a55-6ca5-4036-8aa8-94a0dd369dbf"
      },
      "source": [
        "v = 10\n",
        "for i  in range(10):\n",
        "    for j in range(2,10,1):\n",
        "        if(v%2==0):\n",
        "            continue\n",
        "            v +=1\n",
        "    v +=1\n",
        "else:\n",
        "    v +=1\n",
        "print(v)"
      ],
      "execution_count": 35,
      "outputs": [
        {
          "output_type": "stream",
          "text": [
            "21\n"
          ],
          "name": "stdout"
        }
      ]
    },
    {
      "cell_type": "code",
      "metadata": {
        "id": "_40MGlomvYMz",
        "colab_type": "code",
        "colab": {
          "base_uri": "https://localhost:8080/",
          "height": 34
        },
        "outputId": "c2e39290-aaf8-46c4-fa76-228f469cdd09"
      },
      "source": [
        "d = {\"john\":40, \"peter\":45}\n",
        "print(list(d.keys()))"
      ],
      "execution_count": 36,
      "outputs": [
        {
          "output_type": "stream",
          "text": [
            "['john', 'peter']\n"
          ],
          "name": "stdout"
        }
      ]
    }
  ]
}